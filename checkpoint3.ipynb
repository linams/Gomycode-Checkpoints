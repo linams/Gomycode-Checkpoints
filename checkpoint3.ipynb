{
 "cells": [
  {
   "cell_type": "code",
   "execution_count": 4,
   "id": "f020f394",
   "metadata": {},
   "outputs": [
    {
     "name": "stdout",
     "output_type": "stream",
     "text": [
      "enter first no.50\n",
      "enter second no.25\n",
      "enter third no.70\n",
      "70\n"
     ]
    }
   ],
   "source": [
    "#question 1\n",
    "a=int(input(\"enter first no.\"))\n",
    "b=int(input(\"enter second no.\"))\n",
    "c=int(input(\"enter third no.\"))\n",
    "def maxtwo(a,b):\n",
    "    if a>b:\n",
    "        return a\n",
    "    return b\n",
    "def maxthree(a,b,c):\n",
    "    return maxtwo (a,maxtwo(b,c))\n",
    "print(maxthree(50,70,25))"
   ]
  },
  {
   "cell_type": "code",
   "execution_count": 2,
   "id": "7c77f2de",
   "metadata": {},
   "outputs": [
    {
     "name": "stdout",
     "output_type": "stream",
     "text": [
      "enter first no.8\n",
      "enter second no.5\n",
      "(13, 3)\n"
     ]
    }
   ],
   "source": [
    "#question 2\n",
    "a=int(input(\"enter first no.\"))\n",
    "b=int(input(\"enter second no.\"))   \n",
    "def calculation(a,b):\n",
    "    return (a+b,a-b) \n",
    "print(calculation(a,b))"
   ]
  },
  {
   "cell_type": "code",
   "execution_count": 16,
   "id": "90590cac",
   "metadata": {},
   "outputs": [
    {
     "name": "stdout",
     "output_type": "stream",
     "text": [
      "30\n"
     ]
    }
   ],
   "source": [
    "#question 3\n",
    "def addition(myList):\n",
    "    result=0\n",
    "    for x in myList:\n",
    "        result=result+x\n",
    "    return result\n",
    "myList = [1, 2, 3, 24]   \n",
    "print(addition(list1))\n",
    "\n"
   ]
  },
  {
   "cell_type": "code",
   "execution_count": 19,
   "id": "04dbd524",
   "metadata": {},
   "outputs": [
    {
     "name": "stdout",
     "output_type": "stream",
     "text": [
      "144\n"
     ]
    }
   ],
   "source": [
    "#question 3\n",
    "def multiplying(myList) :\n",
    "     \n",
    "    result = 1\n",
    "    for x in myList:\n",
    "         result = result * x\n",
    "    return result\n",
    "mylist=[1,2,3,24]\n",
    "print(multiplying(mylist))     \n"
   ]
  },
  {
   "cell_type": "code",
   "execution_count": 24,
   "id": "caae5c7c",
   "metadata": {},
   "outputs": [
    {
     "name": "stdout",
     "output_type": "stream",
     "text": [
      "2\n",
      "3\n"
     ]
    }
   ],
   "source": [
    "#question 3\n",
    "def addition(myList):\n",
    "    result=0\n",
    "    for x in myList:\n",
    "        result=result+x\n",
    "    return result\n",
    "\n",
    "def multiplying(myList) :\n",
    "     \n",
    "    result = 1\n",
    "    for x in myList:\n",
    "         result = result * x\n",
    "    return result\n",
    "\n",
    "myList=[1,2,3,24]\n",
    "even=[]\n",
    "odd=[]\n",
    "for i in range(0,len(myList)):\n",
    "    if (i%2==0):\n",
    "        even.append(i)\n",
    "    else :\n",
    "        odd.append(i)\n",
    "print(addition(even))\n",
    "print(multiplying(odd))"
   ]
  },
  {
   "cell_type": "code",
   "execution_count": 17,
   "id": "b8c0789f",
   "metadata": {},
   "outputs": [
    {
     "name": "stdout",
     "output_type": "stream",
     "text": [
      "enter the string:green-red-yellow-black-white\n",
      "black-green-red-white-yellow\n"
     ]
    }
   ],
   "source": [
    "#question 4\n",
    "list=input(\"enter the string:\")\n",
    "result=list.split('-')\n",
    "result.sort()\n",
    "print('-'.join(result))"
   ]
  },
  {
   "cell_type": "code",
   "execution_count": 25,
   "id": "ee6a315e",
   "metadata": {},
   "outputs": [
    {
     "ename": "SyntaxError",
     "evalue": "invalid syntax (<ipython-input-25-7f338e2681a4>, line 3)",
     "output_type": "error",
     "traceback": [
      "\u001b[1;36m  File \u001b[1;32m\"<ipython-input-25-7f338e2681a4>\"\u001b[1;36m, line \u001b[1;32m3\u001b[0m\n\u001b[1;33m    c=50\u001b[0m\n\u001b[1;37m    ^\u001b[0m\n\u001b[1;31mSyntaxError\u001b[0m\u001b[1;31m:\u001b[0m invalid syntax\n"
     ]
    }
   ],
   "source": [
    "#question 5\n",
    "D=int(input(\"enter the values of Q\")\n",
    "c=50\n",
    "h=30\n",
    "Q=//[(2 * C * D)/H]"
   ]
  },
  {
   "cell_type": "code",
   "execution_count": null,
   "id": "432c0944",
   "metadata": {},
   "outputs": [],
   "source": []
  }
 ],
 "metadata": {
  "kernelspec": {
   "display_name": "Python 3",
   "language": "python",
   "name": "python3"
  },
  "language_info": {
   "codemirror_mode": {
    "name": "ipython",
    "version": 3
   },
   "file_extension": ".py",
   "mimetype": "text/x-python",
   "name": "python",
   "nbconvert_exporter": "python",
   "pygments_lexer": "ipython3",
   "version": "3.8.8"
  }
 },
 "nbformat": 4,
 "nbformat_minor": 5
}
