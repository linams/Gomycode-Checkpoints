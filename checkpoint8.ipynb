{
 "cells": [
  {
   "cell_type": "code",
   "execution_count": 6,
   "id": "8c32d79a",
   "metadata": {},
   "outputs": [
    {
     "data": {
      "text/plain": [
       "'item is found'"
      ]
     },
     "execution_count": 6,
     "metadata": {},
     "output_type": "execute_result"
    }
   ],
   "source": [
    "#1\n",
    "def binary_search(list,start_index,end_index,item):\n",
    "    if end_index>=start_index:\n",
    "        mid=start_index+(end_index-start_index)//2\n",
    "        #print(mid)\n",
    "        if list[mid]==item:\n",
    "            return \"item is found\"\n",
    "        elif list[mid]>item:\n",
    "            return binary_search(list,start_index,mid-1,item)\n",
    "        else:\n",
    "            return binary_search (list,mid+1,end_index,item)\n",
    "    else:\n",
    "        return 'item is not found'\n",
    "list=[1,2,3,5,8];item=5;\n",
    "\n",
    "binary_search(list,0,len(list)-1,item)\n",
    "            \n",
    "\n",
    "        "
   ]
  },
  {
   "cell_type": "code",
   "execution_count": 20,
   "id": "55152eae",
   "metadata": {},
   "outputs": [
    {
     "data": {
      "text/plain": [
       "81"
      ]
     },
     "execution_count": 20,
     "metadata": {},
     "output_type": "execute_result"
    }
   ],
   "source": [
    "#2\n",
    "def recursive_power(x,y):\n",
    "    if y==0:\n",
    "        return 1\n",
    "    else:\n",
    "        return x*recursive_power(x,y-1)\n",
    "recursive_power(3,4)   \n",
    "    \n",
    "        \n",
    "   "
   ]
  },
  {
   "cell_type": "code",
   "execution_count": 14,
   "id": "d670f6da",
   "metadata": {},
   "outputs": [
    {
     "data": {
      "text/plain": [
       "[13, 22, 29, 37, 49, 46, 52, 56, 71]"
      ]
     },
     "execution_count": 14,
     "metadata": {},
     "output_type": "execute_result"
    }
   ],
   "source": [
    "#3\n",
    "def bubblesort(list1):\n",
    "    index_length=len(list1)-1\n",
    "    for i in range(0,index_length):\n",
    "        if list1[i]>list1[i+1]:\n",
    "            temp=list1[i]\n",
    "            list1[i]=list1[i+1]\n",
    "            list1[i+1]=temp\n",
    "    return list1\n",
    "list1=[29,13,22,37,52,49,46,71,56]\n",
    "bubblesort(list1)"
   ]
  },
  {
   "cell_type": "code",
   "execution_count": 21,
   "id": "4147a531",
   "metadata": {},
   "outputs": [
    {
     "name": "stdout",
     "output_type": "stream",
     "text": [
      "[17, 20, 26, 31, 44, 54, 55, 77, 93]\n"
     ]
    }
   ],
   "source": [
    "#4\n",
    "def merge_sort(myList):\n",
    "    if len(myList)>1:\n",
    "        mid=len(myList)//2\n",
    "        left=myList[:mid]\n",
    "        right=myList[mid:]\n",
    "        \n",
    "        merge_sort(left)\n",
    "        merge_sort(right)\n",
    "        \n",
    "        \n",
    "        i=0\n",
    "        j=0\n",
    "        \n",
    "        k=0\n",
    "        \n",
    "        while i<len(left)and j<len(right):\n",
    "            if left[i]<right[j]:\n",
    "                myList[k]=left[i]\n",
    "                i+=1\n",
    "            else:\n",
    "                myList[k]=right[j]\n",
    "                j+=1\n",
    "            k+=1  \n",
    "        while i<len(left):\n",
    "            myList[k]=left[i]\n",
    "            i+=1\n",
    "            k+=1\n",
    "        while j<len(right):\n",
    "            myList[k]=right[j]\n",
    "            j+=1\n",
    "            k+=1\n",
    "myList =[54,26,93,17,77,31,44,55,20]\n",
    "merge_sort(myList)\n",
    "print(myList)"
   ]
  },
  {
   "cell_type": "code",
   "execution_count": 13,
   "id": "e7b4be8e",
   "metadata": {},
   "outputs": [
    {
     "name": "stdout",
     "output_type": "stream",
     "text": [
      "[13, 22, 29, 37, 46, 49, 52, 56, 71]\n"
     ]
    }
   ],
   "source": [
    "#5\n",
    "def partition(array, start, end):\n",
    "    pivot = array[start]\n",
    "    low = start + 1\n",
    "    high = end\n",
    "    while True:\n",
    "        \n",
    "        while low <= high and array[high] >= pivot:\n",
    "            high = high - 1\n",
    "\n",
    "        while low <= high and array[low] <= pivot:\n",
    "            low = low + 1\n",
    "\n",
    "        \n",
    "            if low <= high:\n",
    "                array[low], array[high] = array[high], array[low]\n",
    "            \n",
    "        else:\n",
    "            \n",
    "            break\n",
    "\n",
    "    array[start], array[high] = array[high], array[start]\n",
    "\n",
    "    return high\n",
    "\n",
    "\n",
    "def quick_sort(array, start, end):\n",
    "    if start >= end:\n",
    "        return\n",
    "\n",
    "    p = partition(array, start, end)\n",
    "    quick_sort(array, start, p-1)\n",
    "    quick_sort(array, p+1, end)\n",
    "\n",
    "array = [29,13,22,37,52,49,46,71,56]\n",
    "quick_sort(array, 0, len(array) - 1)\n",
    "print(array)"
   ]
  },
  {
   "cell_type": "code",
   "execution_count": null,
   "id": "e2dc6f7e",
   "metadata": {},
   "outputs": [],
   "source": []
  }
 ],
 "metadata": {
  "kernelspec": {
   "display_name": "Python 3",
   "language": "python",
   "name": "python3"
  },
  "language_info": {
   "codemirror_mode": {
    "name": "ipython",
    "version": 3
   },
   "file_extension": ".py",
   "mimetype": "text/x-python",
   "name": "python",
   "nbconvert_exporter": "python",
   "pygments_lexer": "ipython3",
   "version": "3.8.8"
  }
 },
 "nbformat": 4,
 "nbformat_minor": 5
}
