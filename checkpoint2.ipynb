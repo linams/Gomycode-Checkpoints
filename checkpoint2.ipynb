{
 "cells": [
  {
   "cell_type": "code",
   "execution_count": 1,
   "id": "b396ea6d",
   "metadata": {},
   "outputs": [
    {
     "name": "stdout",
     "output_type": "stream",
     "text": [
      "36\n"
     ]
    }
   ],
   "source": [
    "my_list=[2,3,6]\n",
    "result=1\n",
    "\n",
    "for x in my_list:\n",
    "    result=result*x\n",
    "    \n",
    "print(result)    \n",
    "    "
   ]
  },
  {
   "cell_type": "code",
   "execution_count": 8,
   "id": "c85da504",
   "metadata": {},
   "outputs": [
    {
     "name": "stdout",
     "output_type": "stream",
     "text": [
      "[(2, 1), (1, 2), (2, 3), (4, 4), (2, 5)]\n"
     ]
    }
   ],
   "source": [
    "my_list=[(2,5),(1,2),(4,4),(2,3),(2,1)]\n",
    "def sortbysec(element):\n",
    "    return element[1]\n",
    "\n",
    "my_list.sort(key=sortbysec)\n",
    "print(my_list)"
   ]
  },
  {
   "cell_type": "code",
   "execution_count": 13,
   "id": "3db8205a",
   "metadata": {},
   "outputs": [
    {
     "name": "stdout",
     "output_type": "stream",
     "text": [
      "{'a': 400, 'b': 200, 'c': 300}\n",
      "{'a': 400, 'b': 400, 'c': 300}\n"
     ]
    }
   ],
   "source": [
    "d1 = {'a': 100, 'b': 200, 'c':300}\n",
    "d2 = {'a': 300, 'b': 200, 'd':400}\n",
    "for key in d1:\n",
    "    if key in d2:\n",
    "        d1[key]=d1[key]+d2[key]\n",
    "        print (d1)"
   ]
  },
  {
   "cell_type": "code",
   "execution_count": 25,
   "id": "5d113e4a",
   "metadata": {},
   "outputs": [
    {
     "name": "stdout",
     "output_type": "stream",
     "text": [
      "enter number n8\n",
      "{1: 1}\n",
      "{2: 4}\n",
      "{3: 9}\n",
      "{4: 16}\n",
      "{5: 25}\n",
      "{6: 36}\n",
      "{7: 49}\n",
      "{8: 64}\n"
     ]
    }
   ],
   "source": [
    "n=int(input(\"enter number n\"))\n",
    "for i in range(1,n+1):\n",
    "  dict={i:i*i}\n",
    "  print(dict)"
   ]
  },
  {
   "cell_type": "code",
   "execution_count": 15,
   "id": "fe87b141",
   "metadata": {},
   "outputs": [
    {
     "name": "stdout",
     "output_type": "stream",
     "text": [
      "[('item3', '24.5'), ('item2', '15.10'), ('item1', '12.20')]\n"
     ]
    }
   ],
   "source": [
    "my_list=[('item1', '12.20'), ('item2', '15.10'), ('item3', '24.5')]\n",
    "def sortbysec(element):\n",
    "    return element[1]\n",
    "\n",
    "my_list.sort(key=sortbysec,reverse=True)\n",
    "print(my_list)"
   ]
  },
  {
   "cell_type": "code",
   "execution_count": null,
   "id": "5537b7fa",
   "metadata": {},
   "outputs": [],
   "source": []
  }
 ],
 "metadata": {
  "kernelspec": {
   "display_name": "Python 3",
   "language": "python",
   "name": "python3"
  },
  "language_info": {
   "codemirror_mode": {
    "name": "ipython",
    "version": 3
   },
   "file_extension": ".py",
   "mimetype": "text/x-python",
   "name": "python",
   "nbconvert_exporter": "python",
   "pygments_lexer": "ipython3",
   "version": "3.8.8"
  }
 },
 "nbformat": 4,
 "nbformat_minor": 5
}
