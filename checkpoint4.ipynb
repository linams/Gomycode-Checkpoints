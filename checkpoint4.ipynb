{
 "cells": [
  {
   "cell_type": "code",
   "execution_count": 23,
   "id": "f6387da4",
   "metadata": {},
   "outputs": [
    {
     "name": "stdout",
     "output_type": "stream",
     "text": [
      "1 2 3\n"
     ]
    }
   ],
   "source": [
    "class point3D:\n",
    "  def  __init__(self,x,y,z):\n",
    "    self.x=x\n",
    "    self.y=y\n",
    "    self.z=z\n",
    "    print (x,y,z) \n",
    "    \n",
    "my_point=point3D(1,2,3)    "
   ]
  },
  {
   "cell_type": "code",
   "execution_count": 12,
   "id": "1398457d",
   "metadata": {},
   "outputs": [
    {
     "name": "stdout",
     "output_type": "stream",
     "text": [
      "('area is:', 12)\n",
      "('perimeter is:', 14)\n"
     ]
    }
   ],
   "source": [
    "class rectangle:\n",
    "    def __init__(self,length,width):\n",
    "        self.length=length\n",
    "        self.width=width\n",
    "    def area(self):\n",
    "         return \"area is:\",self.length*self.width\n",
    "         \n",
    "    def perimeter(self):\n",
    "        return \"perimeter is:\",2*(self.length+self.width)\n",
    "    \n",
    "    \n",
    "my_rectangle=rectangle(4,3)\n",
    "print(my_rectangle.area())\n",
    "print(my_rectangle.perimeter())\n",
    "\n"
   ]
  },
  {
   "cell_type": "code",
   "execution_count": 12,
   "id": "9fa1798a",
   "metadata": {},
   "outputs": [
    {
     "name": "stdout",
     "output_type": "stream",
     "text": [
      "('area is:', 113.03999999999999)\n",
      "('premiter is:', 37.68)\n",
      "enter the x2: 7\n",
      "enter y2: 9\n",
      "the point is inside the circle\n"
     ]
    }
   ],
   "source": [
    "import math\n",
    "class circle:\n",
    "    def __init__(self,x,y,R):\n",
    "        self.x=x\n",
    "        self.y=y\n",
    "        self.R=R\n",
    "        \n",
    "    def area(self):\n",
    "        return \"area is:\",3.14*self.R*self.R\n",
    "    def perimeter(self):\n",
    "        return \"premiter is:\",2*3.14*self.R\n",
    "    def isinside(self):\n",
    "        x2=int(input(\"enter the x2: \"))\n",
    "        y2=int(input(\"enter y2: \"))\n",
    "        D= math.sqrt( (x2-self.x)**2 + (y2-self.y)**2 )\n",
    "        if self.R>D:\n",
    "            return(\"the point is inside the circle\")\n",
    "        else:\n",
    "            return(\"the point is outside the circle\")\n",
    "        \n",
    "my_circle=circle(6,8,6)\n",
    "print(my_circle.area())\n",
    "print(my_circle.perimeter())\n",
    "print(my_circle.isinside())\n",
    "    "
   ]
  },
  {
   "cell_type": "code",
   "execution_count": 27,
   "id": "a89e7efd",
   "metadata": {
    "scrolled": true
   },
   "outputs": [
    {
     "name": "stdout",
     "output_type": "stream",
     "text": [
      "enter amount to be deposited:500\n",
      "('value after deposit is :', 1500)\n",
      "enter amount to be withdrawn:300\n",
      "('value after withdraw is:', 700)\n"
     ]
    }
   ],
   "source": [
    "class bank:\n",
    "    def __init__(self,balance):\n",
    "        self.balance=balance\n",
    "    def  deposit (self):\n",
    "        deposit=int(input(\"enter amount to be deposited:\"))\n",
    "        return \"value after deposit is :\",deposit + self.balance\n",
    "    def withdraw (self):\n",
    "        withdraw=int(input(\"enter amount to be withdrawn:\"))\n",
    "        return \"value after withdraw is:\",self.balance- withdraw\n",
    "my_account=bank(1000)\n",
    "print(my_account.deposit()) \n",
    "print(my_account.withdraw())"
   ]
  },
  {
   "cell_type": "code",
   "execution_count": null,
   "id": "e3a92ccf",
   "metadata": {},
   "outputs": [],
   "source": []
  }
 ],
 "metadata": {
  "kernelspec": {
   "display_name": "Python 3",
   "language": "python",
   "name": "python3"
  },
  "language_info": {
   "codemirror_mode": {
    "name": "ipython",
    "version": 3
   },
   "file_extension": ".py",
   "mimetype": "text/x-python",
   "name": "python",
   "nbconvert_exporter": "python",
   "pygments_lexer": "ipython3",
   "version": "3.8.8"
  }
 },
 "nbformat": 4,
 "nbformat_minor": 5
}
