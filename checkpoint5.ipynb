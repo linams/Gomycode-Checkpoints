{
 "cells": [
  {
   "cell_type": "code",
   "execution_count": 2,
   "id": "2bfad40f",
   "metadata": {},
   "outputs": [
    {
     "name": "stdout",
     "output_type": "stream",
     "text": [
      "[[1, 2, 3], [4, 5, 6]]\n"
     ]
    }
   ],
   "source": [
    "#QUESTION 1\n",
    "import numpy as np\n",
    "x=np.array([[1,2,3],[4,5,6]])\n",
    "y=x.tolist()\n",
    "print(y)"
   ]
  },
  {
   "cell_type": "code",
   "execution_count": 11,
   "id": "6f8e8995",
   "metadata": {},
   "outputs": [
    {
     "name": "stdout",
     "output_type": "stream",
     "text": [
      "sum is 6\n"
     ]
    }
   ],
   "source": [
    "#QUESTION 2\n",
    "import numpy as np\n",
    "x=np.array([[1,2,3],[4,5,6]])\n",
    "y=np.trace(x)\n",
    "print(\"sum is\",y)"
   ]
  },
  {
   "cell_type": "code",
   "execution_count": 12,
   "id": "919a2f81",
   "metadata": {},
   "outputs": [
    {
     "name": "stdout",
     "output_type": "stream",
     "text": [
      "enter the number: 3\n",
      "[4 5 6 7 8]\n"
     ]
    }
   ],
   "source": [
    "#QUESTION 3\n",
    "import numpy as np\n",
    "arr=np.array([[1,2,3,4],[5,6,7,8]])\n",
    "x=int(input(\"enter the number: \"))\n",
    "greater_than_x=(arr>x)\n",
    "print(arr[greater_than_x])"
   ]
  },
  {
   "cell_type": "code",
   "execution_count": 15,
   "id": "36cc881f",
   "metadata": {},
   "outputs": [
    {
     "name": "stdout",
     "output_type": "stream",
     "text": [
      "[[26 17]\n",
      " [37 29]]\n"
     ]
    }
   ],
   "source": [
    "#QUESTION 4\n",
    "import numpy as np\n",
    "A=np.array([[6,10],[15,4]])\n",
    "B=np.array([[20,7],[22,25]])\n",
    "C=np.add(A,B)\n",
    "print(C)"
   ]
  },
  {
   "cell_type": "code",
   "execution_count": 16,
   "id": "3bd63e56",
   "metadata": {},
   "outputs": [
    {
     "name": "stdout",
     "output_type": "stream",
     "text": [
      "[2. 5.]\n"
     ]
    }
   ],
   "source": [
    "#QUESTION 5\n",
    "import numpy as mp\n",
    "a=np.array([[1,2,3],[4,5,6]])\n",
    "B=a.mean(axis=1)\n",
    "print(B)"
   ]
  },
  {
   "cell_type": "code",
   "execution_count": null,
   "id": "a590407c",
   "metadata": {},
   "outputs": [],
   "source": []
  }
 ],
 "metadata": {
  "kernelspec": {
   "display_name": "Python 3",
   "language": "python",
   "name": "python3"
  },
  "language_info": {
   "codemirror_mode": {
    "name": "ipython",
    "version": 3
   },
   "file_extension": ".py",
   "mimetype": "text/x-python",
   "name": "python",
   "nbconvert_exporter": "python",
   "pygments_lexer": "ipython3",
   "version": "3.8.8"
  }
 },
 "nbformat": 4,
 "nbformat_minor": 5
}
