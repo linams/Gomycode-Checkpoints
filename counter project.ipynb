{
 "cells": [
  {
   "cell_type": "code",
   "execution_count": 26,
   "id": "ac64be00",
   "metadata": {},
   "outputs": [
    {
     "name": "stdout",
     "output_type": "stream",
     "text": [
      "enter the length of countdown in seconds:4\n",
      "00:04\n",
      "00:03\n",
      "00:02\n",
      "00:01\n",
      "Fire in the hole\n"
     ]
    }
   ],
   "source": [
    "import time\n",
    "t=int(input(\"enter the length of countdown in seconds:\"))\n",
    "x=60\n",
    "def countdown(t):\n",
    "    while t>0:\n",
    "        mins,secs=divmod(t,x) \n",
    "        ti='{:02d}:{:02d}'.format(mins, secs)\n",
    "        print(ti)\n",
    "        end ='\\r'\n",
    "        time.sleep(1)\n",
    "        t=t-1\n",
    "    print(\"Fire in the hole\")\n",
    "countdown(t)    \n",
    "   "
   ]
  }
 ],
 "metadata": {
  "kernelspec": {
   "display_name": "Python 3",
   "language": "python",
   "name": "python3"
  },
  "language_info": {
   "codemirror_mode": {
    "name": "ipython",
    "version": 3
   },
   "file_extension": ".py",
   "mimetype": "text/x-python",
   "name": "python",
   "nbconvert_exporter": "python",
   "pygments_lexer": "ipython3",
   "version": "3.8.8"
  }
 },
 "nbformat": 4,
 "nbformat_minor": 5
}
